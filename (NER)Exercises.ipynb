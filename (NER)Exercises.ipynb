{
 "cells": [
  {
   "cell_type": "markdown",
   "id": "5030c7d0-565a-42f2-aa94-e7ae64cf2182",
   "metadata": {},
   "source": [
    "**Named Entity Recognition (NER): Exercises**"
   ]
  },
  {
   "cell_type": "code",
   "execution_count": 6,
   "id": "b14d39bc-f749-4a80-bf66-d49ead9f026d",
   "metadata": {},
   "outputs": [],
   "source": [
    "#importing necessary libraries \n",
    "import spacy\n",
    "\n",
    "nlp = spacy.load(\"en_core_web_sm\")  #creating an object and loading the pre-trained model for \"English\""
   ]
  },
  {
   "cell_type": "markdown",
   "id": "7595a0ab-3a1f-4528-a03e-70fcb3fddbbb",
   "metadata": {},
   "source": [
    "**Excersie: 1**\n",
    "* Extract all the Geographical (cities, Countries, states) names from a given text\n"
   ]
  },
  {
   "cell_type": "code",
   "execution_count": 9,
   "id": "aefa6b11-a0cd-4c6c-b726-c5d56a7b7f89",
   "metadata": {},
   "outputs": [
    {
     "data": {
      "text/plain": [
       "['CARDINAL',\n",
       " 'DATE',\n",
       " 'EVENT',\n",
       " 'FAC',\n",
       " 'GPE',\n",
       " 'LANGUAGE',\n",
       " 'LAW',\n",
       " 'LOC',\n",
       " 'MONEY',\n",
       " 'NORP',\n",
       " 'ORDINAL',\n",
       " 'ORG',\n",
       " 'PERCENT',\n",
       " 'PERSON',\n",
       " 'PRODUCT',\n",
       " 'QUANTITY',\n",
       " 'TIME',\n",
       " 'WORK_OF_ART']"
      ]
     },
     "execution_count": 9,
     "metadata": {},
     "output_type": "execute_result"
    }
   ],
   "source": [
    "nlp.pipe_labels[\"ner\"]"
   ]
  },
  {
   "cell_type": "code",
   "execution_count": 20,
   "id": "887e8199-5bb0-42b7-8429-84377bb681cb",
   "metadata": {},
   "outputs": [
    {
     "name": "stdout",
     "output_type": "stream",
     "text": [
      "Geographical location Names:  [India, Delhi, Gujarat, Tamilnadu, Andhrapradesh, Assam, Bihar]\n",
      "Count:  7\n"
     ]
    }
   ],
   "source": [
    "text = \"\"\"Kiran want to know the famous foods in each state of India. So, he opened Google and search for this question. Google showed that\n",
    "in Delhi it is Chaat, in Gujarat it is Dal Dhokli, in Tamilnadu it is Pongal, in Andhrapradesh it is Biryani, in Assam it is Papaya Khar,\n",
    "in Bihar it is Litti Chowkha and so on for all other states\"\"\"\n",
    "\n",
    "from spacy.tokens import Span\n",
    "doc = nlp(text)\n",
    "\n",
    "s1 = Span(doc,0,1,label=\"PERSON\") # it considered Kiran as a GPE , so i did this\n",
    "doc.set_ents([s1],default=\"unmodified\")\n",
    "\n",
    "GPE = []\n",
    "for ent in doc.ents:\n",
    "    if ent.label_ == \"GPE\":\n",
    "        GPE.append(ent)\n",
    "    \n",
    "\n",
    "print(\"Geographical location Names: \", GPE)\n",
    "print(\"Count: \", len(GPE))\n",
    "        "
   ]
  },
  {
   "cell_type": "markdown",
   "id": "9b6326dd-d1a1-481e-a4a0-e29c1ae02613",
   "metadata": {},
   "source": [
    "**Excersie: 2**\n",
    "\n",
    "* Extract all the birth dates of cricketers in the given Text"
   ]
  },
  {
   "cell_type": "code",
   "execution_count": 21,
   "id": "1061db18-e452-4d82-ac17-fb85d28f4fdc",
   "metadata": {},
   "outputs": [
    {
     "name": "stdout",
     "output_type": "stream",
     "text": [
      "All Birth Dates:  [24 April 1973, 5 November 1988, 7 July 1981, 19 December 1974]\n",
      "Count:  4\n"
     ]
    }
   ],
   "source": [
    "\n",
    "text = \"\"\"Sachin Tendulkar was born on 24 April 1973, Virat Kholi was born on 5 November 1988, Dhoni was born on 7 July 1981\n",
    "and finally Ricky ponting was born on 19 December 1974.\"\"\"\n",
    "\n",
    "doc = nlp(text)\n",
    "dates = []\n",
    "for ent in doc.ents:\n",
    "    if ent.label_ == \"DATE\":\n",
    "        dates.append(ent)\n",
    "print(\"All Birth Dates: \",dates)\n",
    "print(\"Count: \",len(dates))\n",
    "        "
   ]
  }
 ],
 "metadata": {
  "kernelspec": {
   "display_name": "Python 3 (ipykernel)",
   "language": "python",
   "name": "python3"
  },
  "language_info": {
   "codemirror_mode": {
    "name": "ipython",
    "version": 3
   },
   "file_extension": ".py",
   "mimetype": "text/x-python",
   "name": "python",
   "nbconvert_exporter": "python",
   "pygments_lexer": "ipython3",
   "version": "3.11.9"
  }
 },
 "nbformat": 4,
 "nbformat_minor": 5
}
