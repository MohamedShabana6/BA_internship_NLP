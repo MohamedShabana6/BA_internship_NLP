{
 "cells": [
  {
   "cell_type": "code",
   "execution_count": 1,
   "id": "80de810f-9b74-46d7-8585-644e92e04a43",
   "metadata": {},
   "outputs": [],
   "source": [
    "\n",
    "import spacy\n",
    "nlp = spacy.load(\"en_core_web_sm\")"
   ]
  },
  {
   "cell_type": "markdown",
   "id": "b5a32c0c-f856-4aab-b843-4ba17213688c",
   "metadata": {},
   "source": [
    "\n",
    "Read a new story"
   ]
  },
  {
   "cell_type": "code",
   "execution_count": 2,
   "id": "b501b03c-0b85-46c3-9f86-1aca1d295b07",
   "metadata": {},
   "outputs": [],
   "source": [
    "news_text = \"\"\"Inflation rose again in April, continuing a climb that has pushed consumers to the brink and is threatening the economic expansion, the Bureau of Labor Statistics reported Wednesday.\n",
    "\n",
    "The consumer price index, a broad-based measure of prices for goods and services, increased 8.3% from a year ago, higher than the Dow Jones estimate for an 8.1% gain. That represented a slight ease from March’s peak but was still close to the highest level since the summer of 1982.\n",
    "\n",
    "Removing volatile food and energy prices, so-called core CPI still rose 6.2%, against expectations for a 6% gain, clouding hopes that inflation had peaked in March.\n",
    "\n",
    "The month-over-month gains also were higher than expectations — 0.3% on headline CPI versus the 0.2% estimate and a 0.6% increase for core, against the outlook for a 0.4% gain.\n",
    "\n",
    "The price gains also meant that workers continued to lose ground. Real wages adjusted for inflation decreased 0.1% on the month despite a nominal increase of 0.3% in average hourly earnings. Over the past year, real earnings have dropped 2.6% even though average hourly earnings are up 5.5%.\n",
    "\n",
    "Inflation has been the single biggest threat to a recovery that began early in the Covid pandemic and saw the economy in 2021 stage its biggest single-year growth level since 1984. Rising prices at the pump and in grocery stores have been one problem, but inflation has spread beyond those two areas into housing, auto sales and a host of other areas.\n",
    "\n",
    "Federal Reserve officials have responded to the problem with two interest rate hikes so far this year and pledges of more until inflation comes down to the central bank’s 2% goal. However, Wednesday’s data shows that the Fed has a big job ahead.\n",
    "\n",
    "Credits: cnbc.com\"\"\""
   ]
  },
  {
   "cell_type": "markdown",
   "id": "75397d45-11c8-4ad8-9e9b-c3e918c829a5",
   "metadata": {},
   "source": [
    "\n",
    "Extract NOUN and NUM tokens"
   ]
  },
  {
   "cell_type": "code",
   "execution_count": 6,
   "id": "50bb7ced-24b2-45e7-a1dc-78552e672a1b",
   "metadata": {},
   "outputs": [],
   "source": [
    "doc = nlp(news_text)\n",
    "num_tokens = []\n",
    "noun_tokens = []\n",
    "\n",
    "for token in doc:\n",
    "    if token.pos_ == \"NOUN\":\n",
    "        noun_tokens.append(token)\n",
    "    elif token.pos_ == \"NUM\":\n",
    "        num_tokens.append(token)\n",
    "    \n"
   ]
  },
  {
   "cell_type": "markdown",
   "id": "6238414e-f538-4bdc-b7c3-91f7af3afb32",
   "metadata": {},
   "source": [
    "Print a count of all POS tags"
   ]
  },
  {
   "cell_type": "code",
   "execution_count": 17,
   "id": "29bb86bc-60b0-4817-9ad1-225d48be4a03",
   "metadata": {},
   "outputs": [
    {
     "name": "stdout",
     "output_type": "stream",
     "text": [
      "NOUN  =  96\n",
      "VERB  =  27\n",
      "ADV  =  15\n",
      "ADP  =  39\n",
      "PROPN  =  16\n",
      "PUNCT  =  32\n",
      "DET  =  34\n",
      "PRON  =  4\n",
      "AUX  =  13\n",
      "CCONJ  =  10\n",
      "ADJ  =  23\n",
      "SPACE  =  7\n",
      "NUM  =  19\n",
      "PART  =  4\n",
      "SCONJ  =  8\n",
      "X  =  1\n"
     ]
    }
   ],
   "source": [
    "count = doc.count_by(spacy.attrs.POS)\n",
    "\n",
    "for k,v in count.items():\n",
    "    print( doc.vocab[k].text , \" = \" ,v)"
   ]
  }
 ],
 "metadata": {
  "kernelspec": {
   "display_name": "Python 3 (ipykernel)",
   "language": "python",
   "name": "python3"
  },
  "language_info": {
   "codemirror_mode": {
    "name": "ipython",
    "version": 3
   },
   "file_extension": ".py",
   "mimetype": "text/x-python",
   "name": "python",
   "nbconvert_exporter": "python",
   "pygments_lexer": "ipython3",
   "version": "3.11.9"
  }
 },
 "nbformat": 4,
 "nbformat_minor": 5
}
