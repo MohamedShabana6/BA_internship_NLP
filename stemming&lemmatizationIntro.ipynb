{
 "cells": [
  {
   "cell_type": "code",
   "execution_count": 1,
   "id": "16dc4897-73be-43fb-8599-2284889c2b2f",
   "metadata": {},
   "outputs": [],
   "source": [
    "import nltk\n",
    "import spacy"
   ]
  },
  {
   "cell_type": "code",
   "execution_count": 2,
   "id": "7c3a6bd7-c065-46bf-9040-b2ab329c8f99",
   "metadata": {},
   "outputs": [],
   "source": [
    "from nltk.stem import PorterStemmer\n",
    "stemmer = PorterStemmer()"
   ]
  },
  {
   "cell_type": "code",
   "execution_count": 9,
   "id": "131e0954-72b0-4fde-93b1-f2e5ad188e20",
   "metadata": {},
   "outputs": [
    {
     "name": "stdout",
     "output_type": "stream",
     "text": [
      "eating  |  eat\n",
      "eats  |  eat\n",
      "eat  |  eat\n",
      "ate  |  ate\n",
      "adjustable  |  adjust\n",
      "rafting  |  raft\n",
      "ability  |  abil\n",
      "meeting  |  meet\n"
     ]
    }
   ],
   "source": [
    "words = ['eating','eats','eat','ate','adjustable','rafting','ability','meeting']\n",
    "\n",
    "for word in words:\n",
    "    print(word ,\" | \", stemmer.stem(word))"
   ]
  },
  {
   "cell_type": "code",
   "execution_count": 12,
   "id": "31e3c30e-c274-419f-a64e-2161366f71a4",
   "metadata": {},
   "outputs": [
    {
     "name": "stdout",
     "output_type": "stream",
     "text": [
      "eating  |  eat  |  9837207709914848172\n",
      "eats  |  eat  |  9837207709914848172\n",
      "eat  |  eat  |  9837207709914848172\n",
      "ate  |  eat  |  9837207709914848172\n",
      "adjustable  |  adjustable  |  6033511944150694480\n",
      "rafting  |  raft  |  7154368781129989833\n",
      "ability  |  ability  |  11565809527369121409\n",
      "meeting  |  meet  |  6880656908171229526\n",
      "better  |  well  |  4525988469032889948\n"
     ]
    }
   ],
   "source": [
    "nlp = spacy.load(\"en_core_web_sm\")\n",
    "doc = nlp('eating eats eat ate adjustable rafting ability meeting better ')\n",
    "\n",
    "for token in doc:\n",
    "    print(token , \" | \" ,token.lemma_ ,\" | \",token.lemma)\n"
   ]
  },
  {
   "cell_type": "code",
   "execution_count": 14,
   "id": "4a68eb08-da49-47bd-8684-427052037f6c",
   "metadata": {},
   "outputs": [
    {
     "name": "stdout",
     "output_type": "stream",
     "text": [
      "Bro  |  Brother\n",
      ",  |  ,\n",
      "you  |  you\n",
      "wanna  |  wanna\n",
      "go  |  go\n",
      "?  |  ?\n",
      "Brah  |  Brother\n",
      ",  |  ,\n",
      "do  |  do\n",
      "n't  |  not\n",
      "say  |  say\n",
      "no  |  no\n",
      "!  |  !\n",
      "I  |  I\n",
      "'m  |  be\n",
      "exhausted  |  exhaust\n"
     ]
    }
   ],
   "source": [
    "\n",
    "\n",
    "\n",
    "doc = nlp(\"Bro, you wanna go? Brah , don't say no! I'm exhausted\")\n",
    "for token in doc:\n",
    "    print(token , \" | \" ,token.lemma_ )\n",
    "\n"
   ]
  },
  {
   "cell_type": "code",
   "execution_count": 15,
   "id": "c4789e41-767b-42bf-a994-cdb330140096",
   "metadata": {},
   "outputs": [
    {
     "name": "stdout",
     "output_type": "stream",
     "text": [
      "Bro  |  Brother\n",
      ",  |  ,\n",
      "you  |  you\n",
      "wanna  |  wanna\n",
      "go  |  go\n",
      "?  |  ?\n",
      "Brah  |  Brother\n",
      ",  |  ,\n",
      "do  |  do\n",
      "n't  |  not\n",
      "say  |  say\n",
      "no  |  no\n",
      "!  |  !\n",
      "I  |  I\n",
      "'m  |  be\n",
      "exhausted  |  exhaust\n"
     ]
    }
   ],
   "source": [
    "# attribute ruler  assign attribute toa particular token\n",
    " \n",
    "ar =nlp.get_pipe(\"attribute_ruler\")\n",
    "\n",
    "# we can make a custom rule\n",
    "ar.add([[{\"TEXT\":\"Bro\"}],[{\"TEXT\":\"Brah\"}]],{\"LEMMA\":\"Brother\"})\n",
    "\n",
    "doc = nlp(\"Bro, you wanna go? Brah , don't say no! I'm exhausted\")\n",
    "\n",
    "for token in doc:\n",
    "    print(token , \" | \" ,token.lemma_ )"
   ]
  },
  {
   "cell_type": "code",
   "execution_count": null,
   "id": "17a8bded-c3af-4f55-bcef-3e1420182c99",
   "metadata": {},
   "outputs": [],
   "source": []
  }
 ],
 "metadata": {
  "kernelspec": {
   "display_name": "Python 3 (ipykernel)",
   "language": "python",
   "name": "python3"
  },
  "language_info": {
   "codemirror_mode": {
    "name": "ipython",
    "version": 3
   },
   "file_extension": ".py",
   "mimetype": "text/x-python",
   "name": "python",
   "nbconvert_exporter": "python",
   "pygments_lexer": "ipython3",
   "version": "3.11.9"
  }
 },
 "nbformat": 4,
 "nbformat_minor": 5
}
