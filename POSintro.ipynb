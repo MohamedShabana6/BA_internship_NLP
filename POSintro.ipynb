{
 "cells": [
  {
   "cell_type": "code",
   "execution_count": 1,
   "id": "15c0e954-0451-4e40-9d1c-093018f4b5c9",
   "metadata": {},
   "outputs": [],
   "source": [
    "import spacy"
   ]
  },
  {
   "cell_type": "code",
   "execution_count": 2,
   "id": "92955bce-0455-4407-a00f-23fc95f46df6",
   "metadata": {},
   "outputs": [],
   "source": [
    "nlp = spacy.load(\"en_core_web_sm\")"
   ]
  },
  {
   "cell_type": "code",
   "execution_count": 10,
   "id": "68dba9ce-035c-41a4-bb2e-0df89363ebed",
   "metadata": {},
   "outputs": [
    {
     "name": "stdout",
     "output_type": "stream",
     "text": [
      "Elon  |  PROPN  |  proper noun  |  NNP  |  noun, proper singular\n",
      "flew  |  VERB  |  verb  |  VBD  |  verb, past tense\n",
      "to  |  ADP  |  adposition  |  IN  |  conjunction, subordinating or preposition\n",
      "mars  |  NOUN  |  noun  |  NNS  |  noun, plural\n",
      "yesterday  |  NOUN  |  noun  |  NN  |  noun, singular or mass\n",
      ".  |  PUNCT  |  punctuation  |  .  |  punctuation mark, sentence closer\n",
      "He  |  PRON  |  pronoun  |  PRP  |  pronoun, personal\n",
      "carried  |  VERB  |  verb  |  VBD  |  verb, past tense\n",
      "biryani  |  ADJ  |  adjective  |  JJ  |  adjective (English), other noun-modifier (Chinese)\n",
      "masala  |  NOUN  |  noun  |  NN  |  noun, singular or mass\n",
      "with  |  ADP  |  adposition  |  IN  |  conjunction, subordinating or preposition\n",
      "him  |  PRON  |  pronoun  |  PRP  |  pronoun, personal\n"
     ]
    }
   ],
   "source": [
    "doc = nlp(\"Elon flew to mars yesterday. He carried biryani masala with him\")\n",
    "\n",
    "for token in doc:\n",
    "    print(token,\" | \", token.pos_,\" | \",spacy.explain(token.pos_),\" | \",token.tag_,\" | \",spacy.explain(token.tag_))"
   ]
  },
  {
   "cell_type": "markdown",
   "id": "d088ba59-1560-4c0e-abfa-494e1feb8977",
   "metadata": {},
   "source": [
    "\n",
    "Removing all SPACE, PUNCT and X token from text"
   ]
  },
  {
   "cell_type": "code",
   "execution_count": 12,
   "id": "e4c03d14-0d0e-494e-a437-fda5026878df",
   "metadata": {},
   "outputs": [
    {
     "data": {
      "text/plain": [
       "[Microsoft,\n",
       " Corp.,\n",
       " today,\n",
       " announced,\n",
       " the,\n",
       " following,\n",
       " results,\n",
       " for,\n",
       " the,\n",
       " quarter,\n",
       " ended,\n",
       " December,\n",
       " 31,\n",
       " 2021,\n",
       " as,\n",
       " compared,\n",
       " to,\n",
       " the,\n",
       " corresponding,\n",
       " period]"
      ]
     },
     "execution_count": 12,
     "metadata": {},
     "output_type": "execute_result"
    }
   ],
   "source": [
    "earnings_text=\"\"\"Microsoft Corp. today announced the following results for the quarter ended December 31, 2021, as compared to the corresponding period of last fiscal year:\n",
    "\n",
    "·         Revenue was $51.7 billion and increased 20%\n",
    "·         Operating income was $22.2 billion and increased 24%\n",
    "·         Net income was $18.8 billion and increased 21%\n",
    "·         Diluted earnings per share was $2.48 and increased 22%\n",
    "“Digital technology is the most malleable resource at the world’s disposal to overcome constraints and reimagine everyday work and life,” said Satya Nadella, chairman and chief executive officer of Microsoft. “As tech as a percentage of global GDP continues to increase, we are innovating and investing across diverse and growing markets, with a common underlying technology stack and an operating model that reinforces a common strategy, culture, and sense of purpose.”\n",
    "“Solid commercial execution, represented by strong bookings growth driven by long-term Azure commitments, increased Microsoft Cloud revenue to $22.1 billion, up 32% year over year” said Amy Hood, executive vice president and chief financial officer of Microsoft.\"\"\"\n",
    "\n",
    "doc  =  nlp(earnings_text)\n",
    "\n",
    "filtered_tokens = []\n",
    "for token in doc:\n",
    "    if token.pos_ not in [\"X\",\"SPACE\",\"PUNCT\"]:\n",
    "        filtered_tokens.append(token)\n",
    "\n",
    "filtered_tokens[:20]\n",
    "        "
   ]
  },
  {
   "cell_type": "code",
   "execution_count": 13,
   "id": "6bb33f16-ca8d-4628-b090-44dd4913f508",
   "metadata": {},
   "outputs": [],
   "source": [
    "count = doc.count_by(spacy.attrs.POS)"
   ]
  },
  {
   "cell_type": "code",
   "execution_count": 14,
   "id": "89d67778-4370-46de-92fa-5afd084c4321",
   "metadata": {},
   "outputs": [
    {
     "data": {
      "text/plain": [
       "{96: 15,\n",
       " 92: 45,\n",
       " 100: 23,\n",
       " 90: 9,\n",
       " 85: 16,\n",
       " 93: 16,\n",
       " 97: 27,\n",
       " 98: 1,\n",
       " 84: 20,\n",
       " 103: 10,\n",
       " 87: 6,\n",
       " 99: 5,\n",
       " 89: 12,\n",
       " 86: 3,\n",
       " 94: 3,\n",
       " 95: 2}"
      ]
     },
     "execution_count": 14,
     "metadata": {},
     "output_type": "execute_result"
    }
   ],
   "source": [
    "count"
   ]
  },
  {
   "cell_type": "code",
   "execution_count": 17,
   "id": "64782664-2b57-4378-a5bf-4682f142ea48",
   "metadata": {},
   "outputs": [
    {
     "name": "stdout",
     "output_type": "stream",
     "text": [
      "PROPN  =  15\n",
      "NOUN  =  45\n",
      "VERB  =  23\n",
      "DET  =  9\n",
      "ADP  =  16\n",
      "NUM  =  16\n",
      "PUNCT  =  27\n",
      "SCONJ  =  1\n",
      "ADJ  =  20\n",
      "SPACE  =  10\n",
      "AUX  =  6\n",
      "SYM  =  5\n",
      "CCONJ  =  12\n",
      "ADV  =  3\n",
      "PART  =  3\n",
      "PRON  =  2\n"
     ]
    }
   ],
   "source": [
    "for k,v in count.items(): # count.items() give ket value Pair, while count gives keys only\n",
    "    print(doc.vocab[k].text ,\" = \",v)"
   ]
  },
  {
   "cell_type": "code",
   "execution_count": null,
   "id": "dbac3e01-2c32-4015-a179-a336bcf426b5",
   "metadata": {},
   "outputs": [],
   "source": []
  }
 ],
 "metadata": {
  "kernelspec": {
   "display_name": "Python 3 (ipykernel)",
   "language": "python",
   "name": "python3"
  },
  "language_info": {
   "codemirror_mode": {
    "name": "ipython",
    "version": 3
   },
   "file_extension": ".py",
   "mimetype": "text/x-python",
   "name": "python",
   "nbconvert_exporter": "python",
   "pygments_lexer": "ipython3",
   "version": "3.11.9"
  }
 },
 "nbformat": 4,
 "nbformat_minor": 5
}
