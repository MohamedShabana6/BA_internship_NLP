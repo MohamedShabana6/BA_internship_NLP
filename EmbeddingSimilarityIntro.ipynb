{
 "cells": [
  {
   "cell_type": "code",
   "execution_count": 1,
   "id": "69f50eaa-99b1-4e67-93d0-67f54cbb61e5",
   "metadata": {},
   "outputs": [],
   "source": [
    "import spacy"
   ]
  },
  {
   "cell_type": "code",
   "execution_count": 2,
   "id": "356248ff-2a18-4709-9f68-f3dff6fe2721",
   "metadata": {},
   "outputs": [],
   "source": [
    "nlp = spacy.load('en_core_web_lg')   # spacy uses Glove embeddings"
   ]
  },
  {
   "cell_type": "code",
   "execution_count": 6,
   "id": "1aedc901-6034-400e-a937-c8479017918a",
   "metadata": {},
   "outputs": [
    {
     "name": "stdout",
     "output_type": "stream",
     "text": [
      "dog Vector: True OOV: False\n",
      "cat Vector: True OOV: False\n",
      "banana Vector: True OOV: False\n",
      "afskfsd Vector: False OOV: True\n"
     ]
    }
   ],
   "source": [
    "doc = nlp(\"dog cat banana afskfsd\")\n",
    "for token in doc:\n",
    "    print(token.text,\"Vector:\", token.has_vector,\"OOV:\",token.is_oov)"
   ]
  },
  {
   "cell_type": "code",
   "execution_count": 8,
   "id": "86760eb5-fe3f-4594-b7b3-1ce572f7cc8f",
   "metadata": {},
   "outputs": [
    {
     "data": {
      "text/plain": [
       "(300,)"
      ]
     },
     "execution_count": 8,
     "metadata": {},
     "output_type": "execute_result"
    }
   ],
   "source": [
    "doc[0].vector.shape"
   ]
  },
  {
   "cell_type": "code",
   "execution_count": 12,
   "id": "433793c4-c43d-4721-9e0b-ee340df63219",
   "metadata": {},
   "outputs": [
    {
     "data": {
      "text/plain": [
       "(300,)"
      ]
     },
     "execution_count": 12,
     "metadata": {},
     "output_type": "execute_result"
    }
   ],
   "source": [
    "base_token = nlp('bread')\n",
    "base_token[0].vector.shape"
   ]
  },
  {
   "cell_type": "code",
   "execution_count": 16,
   "id": "33727a31-9b2c-4685-8d90-b7a27ece2448",
   "metadata": {},
   "outputs": [
    {
     "name": "stdout",
     "output_type": "stream",
     "text": [
      "bread <-> bread: 1.0\n",
      "sandwich <-> bread: 0.6874560117721558\n",
      "burger <-> bread: 0.544037401676178\n",
      "car <-> bread: 0.16441147029399872\n",
      "tiger <-> bread: 0.14492356777191162\n",
      "human <-> bread: 0.21103660762310028\n",
      "wheat <-> bread: 0.6572456359863281\n"
     ]
    }
   ],
   "source": [
    "doc = nlp(\"bread sandwich burger car tiger human wheat\")\n",
    "\n",
    "for token in doc:\n",
    "    print(f\"{token.text} <-> {base_token.text}:\",token.similarity(base_token))"
   ]
  },
  {
   "cell_type": "code",
   "execution_count": 17,
   "id": "2416de12-d25c-4c99-9463-eec291ef9d95",
   "metadata": {},
   "outputs": [],
   "source": [
    "king = nlp.vocab[\"king\"].vector\n",
    "man = nlp.vocab[\"man\"].vector\n",
    "woman = nlp.vocab[\"woman\"].vector\n",
    "queen = nlp.vocab[\"queen\"].vector\n",
    "\n",
    "result = king - man + woman"
   ]
  },
  {
   "cell_type": "code",
   "execution_count": 18,
   "id": "d7c23f7d-660c-4449-9d21-cb5d50325495",
   "metadata": {},
   "outputs": [
    {
     "data": {
      "text/plain": [
       "array([[0.78808445]], dtype=float32)"
      ]
     },
     "execution_count": 18,
     "metadata": {},
     "output_type": "execute_result"
    }
   ],
   "source": [
    "\n",
    "from sklearn.metrics.pairwise import cosine_similarity\n",
    "\n",
    "cosine_similarity([result], [queen])"
   ]
  },
  {
   "cell_type": "code",
   "execution_count": null,
   "id": "a5539c70-613a-4b9e-8284-dc191b2bfa20",
   "metadata": {},
   "outputs": [],
   "source": []
  }
 ],
 "metadata": {
  "kernelspec": {
   "display_name": "Python 3 (ipykernel)",
   "language": "python",
   "name": "python3"
  },
  "language_info": {
   "codemirror_mode": {
    "name": "ipython",
    "version": 3
   },
   "file_extension": ".py",
   "mimetype": "text/x-python",
   "name": "python",
   "nbconvert_exporter": "python",
   "pygments_lexer": "ipython3",
   "version": "3.11.9"
  }
 },
 "nbformat": 4,
 "nbformat_minor": 5
}
